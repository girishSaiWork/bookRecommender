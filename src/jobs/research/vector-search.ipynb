{
 "cells": [
  {
   "cell_type": "code",
   "execution_count": null,
   "id": "initial_id",
   "metadata": {
    "collapsed": true
   },
   "outputs": [],
   "source": [
    "from langchain_community.document_loaders import TextLoader\n",
    "from langchain.text_splitter import CharacterTextSplitter\n",
    "from langchain_ollama import OllamaEmbeddings\n",
    "from langchain_community.vectorstores import PGVector\n",
    "import os\n",
    "\n",
    "from src.jobs.research.data_cleaning_and_exploration import file_path"
   ]
  },
  {
   "metadata": {
    "ExecuteTime": {
     "end_time": "2025-02-17T00:00:09.138477Z",
     "start_time": "2025-02-17T00:00:09.116286Z"
    }
   },
   "cell_type": "code",
   "source": [
    "from dotenv import load_dotenv\n",
    "load_dotenv()"
   ],
   "id": "f444a137b624a0a4",
   "outputs": [
    {
     "data": {
      "text/plain": [
       "True"
      ]
     },
     "execution_count": 1,
     "metadata": {},
     "output_type": "execute_result"
    }
   ],
   "execution_count": 1
  },
  {
   "metadata": {
    "ExecuteTime": {
     "end_time": "2025-02-17T00:07:22.046309Z",
     "start_time": "2025-02-17T00:07:21.912608Z"
    }
   },
   "cell_type": "code",
   "source": [
    "import pandas as pd\n",
    "file_path = r\"C:\\Users\\saigi\\PycharmProjects\\bookRecommender\\data\\books_cleaned.csv\"\n",
    "books = pd.read_csv(file_path)"
   ],
   "id": "561c4c4485e4c76c",
   "outputs": [],
   "execution_count": 7
  },
  {
   "metadata": {
    "ExecuteTime": {
     "end_time": "2025-02-17T00:08:34.364669Z",
     "start_time": "2025-02-17T00:08:34.353931Z"
    }
   },
   "cell_type": "code",
   "source": "books[[\"isbn13\",\"tagged_description\"]].head()",
   "id": "c3aa9dad9e1e9d11",
   "outputs": [
    {
     "data": {
      "text/plain": [
       "          isbn13                                 tagged_description\n",
       "0  9780002005883  0002005883 A NOVEL THAT READERS and critics ha...\n",
       "1  9780002261982  0002261987 A new 'Christie for Christmas' -- a...\n",
       "2  9780006178736  0006178731 A memorable, mesmerizing heroine Je...\n",
       "3  9780006280897  0006280897 Lewis' work on the nature of love d...\n",
       "4  9780006280934  0006280935 \"In The Problem of Pain, C.S. Lewis..."
      ],
      "text/html": [
       "<div>\n",
       "<style scoped>\n",
       "    .dataframe tbody tr th:only-of-type {\n",
       "        vertical-align: middle;\n",
       "    }\n",
       "\n",
       "    .dataframe tbody tr th {\n",
       "        vertical-align: top;\n",
       "    }\n",
       "\n",
       "    .dataframe thead th {\n",
       "        text-align: right;\n",
       "    }\n",
       "</style>\n",
       "<table border=\"1\" class=\"dataframe\">\n",
       "  <thead>\n",
       "    <tr style=\"text-align: right;\">\n",
       "      <th></th>\n",
       "      <th>isbn13</th>\n",
       "      <th>tagged_description</th>\n",
       "    </tr>\n",
       "  </thead>\n",
       "  <tbody>\n",
       "    <tr>\n",
       "      <th>0</th>\n",
       "      <td>9780002005883</td>\n",
       "      <td>0002005883 A NOVEL THAT READERS and critics ha...</td>\n",
       "    </tr>\n",
       "    <tr>\n",
       "      <th>1</th>\n",
       "      <td>9780002261982</td>\n",
       "      <td>0002261987 A new 'Christie for Christmas' -- a...</td>\n",
       "    </tr>\n",
       "    <tr>\n",
       "      <th>2</th>\n",
       "      <td>9780006178736</td>\n",
       "      <td>0006178731 A memorable, mesmerizing heroine Je...</td>\n",
       "    </tr>\n",
       "    <tr>\n",
       "      <th>3</th>\n",
       "      <td>9780006280897</td>\n",
       "      <td>0006280897 Lewis' work on the nature of love d...</td>\n",
       "    </tr>\n",
       "    <tr>\n",
       "      <th>4</th>\n",
       "      <td>9780006280934</td>\n",
       "      <td>0006280935 \"In The Problem of Pain, C.S. Lewis...</td>\n",
       "    </tr>\n",
       "  </tbody>\n",
       "</table>\n",
       "</div>"
      ]
     },
     "execution_count": 12,
     "metadata": {},
     "output_type": "execute_result"
    }
   ],
   "execution_count": 12
  },
  {
   "metadata": {
    "ExecuteTime": {
     "end_time": "2025-02-17T00:08:13.676472Z",
     "start_time": "2025-02-17T00:08:13.671058Z"
    }
   },
   "cell_type": "code",
   "source": "books.columns",
   "id": "2b04f6d6cbbb005d",
   "outputs": [
    {
     "data": {
      "text/plain": [
       "Index(['isbn13', 'isbn10', 'title', 'authors', 'categories', 'thumbnail',\n",
       "       'description', 'published_year', 'average_rating', 'num_pages',\n",
       "       'ratings_count', 'title_and_subtitle', 'tagged_description'],\n",
       "      dtype='object')"
      ]
     },
     "execution_count": 9,
     "metadata": {},
     "output_type": "execute_result"
    }
   ],
   "execution_count": 9
  },
  {
   "metadata": {},
   "cell_type": "code",
   "outputs": [],
   "execution_count": null,
   "source": "CONNECTION_STRING = os.getenv('DATABASE_URL')",
   "id": "98928935736bc526"
  },
  {
   "metadata": {},
   "cell_type": "code",
   "outputs": [],
   "execution_count": null,
   "source": [
    "ollama_embeddings = OllamaEmbeddings(\n",
    "    model=\"mxbai-embed-large:latest\",\n",
    ")\n",
    "\n",
    "print(\"🔌 Connecting to PostgreSQL vector store...\")\n",
    "# Create and return vector store instance\n",
    "vector_store = PGVector(\n",
    "        connection_string=CONNECTION_STRING,\n",
    "        embedding_function=ollama_embeddings,\n",
    "        collection_name=\"github_issues\"\n",
    ")"
   ],
   "id": "4c707ac137edf926"
  }
 ],
 "metadata": {
  "kernelspec": {
   "display_name": "Python 3",
   "language": "python",
   "name": "python3"
  },
  "language_info": {
   "codemirror_mode": {
    "name": "ipython",
    "version": 2
   },
   "file_extension": ".py",
   "mimetype": "text/x-python",
   "name": "python",
   "nbconvert_exporter": "python",
   "pygments_lexer": "ipython2",
   "version": "2.7.6"
  }
 },
 "nbformat": 4,
 "nbformat_minor": 5
}
